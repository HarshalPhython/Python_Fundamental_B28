{
 "cells": [
  {
   "cell_type": "code",
   "execution_count": null,
   "metadata": {},
   "outputs": [],
   "source": [
    "introducton to conditonal statements:"
   ]
  },
  {
   "cell_type": "code",
   "execution_count": null,
   "metadata": {},
   "outputs": [],
   "source": []
  },
  {
   "cell_type": "code",
   "execution_count": null,
   "metadata": {},
   "outputs": [],
   "source": [
    "if, if else, elif  ---------> 3 different conditions."
   ]
  },
  {
   "cell_type": "code",
   "execution_count": null,
   "metadata": {},
   "outputs": [],
   "source": []
  },
  {
   "cell_type": "code",
   "execution_count": 1,
   "metadata": {},
   "outputs": [
    {
     "name": "stdout",
     "output_type": "stream",
     "text": [
      "['mohan', 'krishna', 'radha', 'vishnu', 'roshan', 'rima', 'rihan', 'rony']\n"
     ]
    }
   ],
   "source": [
    "employees = ['mohan', 'krishna','radha','vishnu','roshan', 'rima','rihan','rony']\n",
    "print(employees)"
   ]
  },
  {
   "cell_type": "code",
   "execution_count": null,
   "metadata": {},
   "outputs": [],
   "source": []
  },
  {
   "cell_type": "code",
   "execution_count": null,
   "metadata": {},
   "outputs": [],
   "source": [
    "case study: building a voting application."
   ]
  },
  {
   "cell_type": "code",
   "execution_count": null,
   "metadata": {},
   "outputs": [],
   "source": []
  },
  {
   "cell_type": "code",
   "execution_count": null,
   "metadata": {},
   "outputs": [],
   "source": [
    "age criteria--> 18 or more than 18 years of age--> to get voting right"
   ]
  },
  {
   "cell_type": "code",
   "execution_count": null,
   "metadata": {},
   "outputs": [],
   "source": []
  },
  {
   "cell_type": "code",
   "execution_count": 3,
   "metadata": {},
   "outputs": [
    {
     "name": "stdout",
     "output_type": "stream",
     "text": [
      "Your are eligible to vote\n"
     ]
    }
   ],
   "source": [
    "age = 21\n",
    "\n",
    "if age >= 18:\n",
    "    print('Your are eligible to vote')\n",
    "else:\n",
    "    print('You are not eligible to vote, try next year!')"
   ]
  },
  {
   "cell_type": "code",
   "execution_count": 5,
   "metadata": {},
   "outputs": [
    {
     "name": "stdout",
     "output_type": "stream",
     "text": [
      "You are not eligible to vote, try next year!\n"
     ]
    }
   ],
   "source": [
    "age1 = 16\n",
    "if age1 >= 18:\n",
    "    print('Your are eligible to vote')\n",
    "else:\n",
    "    print('You are not eligible to vote, try next year!')"
   ]
  },
  {
   "cell_type": "code",
   "execution_count": null,
   "metadata": {},
   "outputs": [],
   "source": []
  },
  {
   "cell_type": "code",
   "execution_count": null,
   "metadata": {},
   "outputs": [],
   "source": [
    "Baby growth :\n",
    "\n",
    "Baby 1 ----> crawl  --->baby will be able to crawl\n",
    "\n",
    "Baby 2 ----> stand  ---> baby will be able to stand\n",
    "\n",
    "Baby 3 ----> walk  ----> baby will be able to walk\n",
    "\n",
    "Baby 4 ----> run   ----> baby will be able to run"
   ]
  },
  {
   "cell_type": "code",
   "execution_count": null,
   "metadata": {},
   "outputs": [],
   "source": []
  },
  {
   "cell_type": "code",
   "execution_count": 6,
   "metadata": {},
   "outputs": [
    {
     "name": "stdout",
     "output_type": "stream",
     "text": [
      "Baby will be able to stand\n"
     ]
    }
   ],
   "source": [
    "age = 2\n",
    "\n",
    "if age == 1:  #comparision operator--------->validating and executing the code block...!\n",
    "    print('Baby will be able to crawl')\n",
    "elif age == 2:\n",
    "    print('Baby will be able to stand')\n",
    "elif age == 3:\n",
    "    print('Baby will be able to walk')\n",
    "else:\n",
    "    print('Baby will be able to run!')\n",
    "\n"
   ]
  },
  {
   "cell_type": "code",
   "execution_count": null,
   "metadata": {},
   "outputs": [],
   "source": []
  },
  {
   "cell_type": "code",
   "execution_count": 15,
   "metadata": {},
   "outputs": [],
   "source": [
    "employees = 'mohan'\n",
    "managers = 'shivam'\n"
   ]
  },
  {
   "cell_type": "code",
   "execution_count": 20,
   "metadata": {},
   "outputs": [
    {
     "name": "stdout",
     "output_type": "stream",
     "text": [
      "mohan is an employee\n"
     ]
    }
   ],
   "source": [
    "if employees == 'mohan':\n",
    "    print(employees,'is an employee')\n",
    "else:\n",
    "    print(employees,'is not an employee')\n"
   ]
  },
  {
   "cell_type": "code",
   "execution_count": 21,
   "metadata": {},
   "outputs": [],
   "source": [
    "s1 = 'single'\n",
    "s2 = 'Married'\n",
    "s3 = 'widowed'\n",
    "s4 = 'divorced'\n",
    "s5 = 'separated'"
   ]
  },
  {
   "cell_type": "markdown",
   "metadata": {},
   "source": [
    "\n"
   ]
  },
  {
   "cell_type": "code",
   "execution_count": 29,
   "metadata": {},
   "outputs": [
    {
     "name": "stdout",
     "output_type": "stream",
     "text": [
      "The person is Married\n"
     ]
    }
   ],
   "source": [
    "if s2 == 'single':\n",
    "    print('The person is not Married')\n",
    "else:\n",
    "    print('The person is', s2)"
   ]
  },
  {
   "cell_type": "code",
   "execution_count": null,
   "metadata": {},
   "outputs": [],
   "source": []
  },
  {
   "cell_type": "code",
   "execution_count": null,
   "metadata": {},
   "outputs": [],
   "source": []
  },
  {
   "cell_type": "code",
   "execution_count": null,
   "metadata": {},
   "outputs": [],
   "source": []
  }
 ],
 "metadata": {
  "kernelspec": {
   "display_name": "Python 3",
   "language": "python",
   "name": "python3"
  },
  "language_info": {
   "codemirror_mode": {
    "name": "ipython",
    "version": 3
   },
   "file_extension": ".py",
   "mimetype": "text/x-python",
   "name": "python",
   "nbconvert_exporter": "python",
   "pygments_lexer": "ipython3",
   "version": "3.8.3"
  }
 },
 "nbformat": 4,
 "nbformat_minor": 4
}
