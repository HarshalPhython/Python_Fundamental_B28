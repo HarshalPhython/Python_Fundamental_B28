{
 "cells": [
  {
   "cell_type": "code",
   "execution_count": null,
   "metadata": {},
   "outputs": [],
   "source": [
    "Introduction to looping statements:"
   ]
  },
  {
   "cell_type": "code",
   "execution_count": null,
   "metadata": {},
   "outputs": [],
   "source": []
  },
  {
   "cell_type": "code",
   "execution_count": 2,
   "metadata": {},
   "outputs": [
    {
     "name": "stdout",
     "output_type": "stream",
     "text": [
      "['ravi', 'krunal', 'daxesh', 'dipti', 'dwanil', 'reshma', 'roshani']\n"
     ]
    }
   ],
   "source": [
    "students = ['ravi','krunal','daxesh','dipti','dwanil','reshma','roshani']  #---> Main Variable....\n",
    "print(students)"
   ]
  },
  {
   "cell_type": "code",
   "execution_count": 3,
   "metadata": {},
   "outputs": [
    {
     "name": "stdout",
     "output_type": "stream",
     "text": [
      "['ravi', 'krunal', 'daxesh', 'dipti', 'dwanil', 'reshma', 'roshani']\n"
     ]
    }
   ],
   "source": [
    "print(students)"
   ]
  },
  {
   "cell_type": "code",
   "execution_count": 4,
   "metadata": {},
   "outputs": [
    {
     "data": {
      "text/plain": [
       "list"
      ]
     },
     "execution_count": 4,
     "metadata": {},
     "output_type": "execute_result"
    }
   ],
   "source": [
    "type(students)"
   ]
  },
  {
   "cell_type": "code",
   "execution_count": null,
   "metadata": {},
   "outputs": [],
   "source": [
    "req: i want to appreciate all the students who all are in the above list.."
   ]
  },
  {
   "cell_type": "code",
   "execution_count": null,
   "metadata": {},
   "outputs": [],
   "source": []
  },
  {
   "cell_type": "code",
   "execution_count": 8,
   "metadata": {},
   "outputs": [
    {
     "name": "stdout",
     "output_type": "stream",
     "text": [
      "Keep up the good work, Ravi\n"
     ]
    }
   ],
   "source": [
    "print(f\"Keep up the good work, {students[0].title()}\")    #individual approch....."
   ]
  },
  {
   "cell_type": "code",
   "execution_count": 6,
   "metadata": {},
   "outputs": [
    {
     "name": "stdout",
     "output_type": "stream",
     "text": [
      "Keep up the good work, Reshma\n"
     ]
    }
   ],
   "source": [
    "print(f\"Keep up the good work, {students[5].title()}\")"
   ]
  },
  {
   "cell_type": "code",
   "execution_count": 7,
   "metadata": {},
   "outputs": [
    {
     "name": "stdout",
     "output_type": "stream",
     "text": [
      "Keep up the good work, Dipti\n"
     ]
    }
   ],
   "source": [
    "print(f\"Keep up the good work, {students[3].title()}\")"
   ]
  },
  {
   "cell_type": "code",
   "execution_count": null,
   "metadata": {},
   "outputs": [],
   "source": []
  },
  {
   "cell_type": "code",
   "execution_count": null,
   "metadata": {},
   "outputs": [],
   "source": [
    "Req: want to appriciate all the students in a go ( single shot code execution ):"
   ]
  },
  {
   "cell_type": "code",
   "execution_count": null,
   "metadata": {},
   "outputs": [],
   "source": []
  },
  {
   "cell_type": "code",
   "execution_count": 10,
   "metadata": {},
   "outputs": [
    {
     "name": "stdout",
     "output_type": "stream",
     "text": [
      "Keep up the good work, Ravi.\n",
      "\n",
      "Keep up the good work, Krunal.\n",
      "\n",
      "Keep up the good work, Daxesh.\n",
      "\n",
      "Keep up the good work, Dipti.\n",
      "\n",
      "Keep up the good work, Dwanil.\n",
      "\n",
      "Keep up the good work, Reshma.\n",
      "\n",
      "Keep up the good work, Roshani.\n",
      "\n"
     ]
    }
   ],
   "source": [
    "for student in students:\n",
    "    print(f\"Keep up the good work, {student.title()}.\\n\")"
   ]
  },
  {
   "cell_type": "code",
   "execution_count": null,
   "metadata": {},
   "outputs": [],
   "source": []
  },
  {
   "cell_type": "code",
   "execution_count": null,
   "metadata": {},
   "outputs": [],
   "source": [
    "introduction to for loops:"
   ]
  },
  {
   "cell_type": "code",
   "execution_count": null,
   "metadata": {},
   "outputs": [],
   "source": []
  },
  {
   "cell_type": "code",
   "execution_count": null,
   "metadata": {},
   "outputs": [],
   "source": [
    "#General syntax of a for loop."
   ]
  },
  {
   "cell_type": "code",
   "execution_count": null,
   "metadata": {},
   "outputs": [],
   "source": []
  },
  {
   "cell_type": "code",
   "execution_count": 14,
   "metadata": {},
   "outputs": [
    {
     "ename": "NameError",
     "evalue": "name 'mainvar' is not defined",
     "output_type": "error",
     "traceback": [
      "\u001b[1;31m---------------------------------------------------------------------------\u001b[0m",
      "\u001b[1;31mNameError\u001b[0m                                 Traceback (most recent call last)",
      "\u001b[1;32m<ipython-input-14-bb2dbd151c5b>\u001b[0m in \u001b[0;36m<module>\u001b[1;34m\u001b[0m\n\u001b[1;32m----> 1\u001b[1;33m \u001b[1;32mfor\u001b[0m \u001b[0mtempvar\u001b[0m \u001b[1;32min\u001b[0m \u001b[0mmainvar\u001b[0m\u001b[1;33m:\u001b[0m \u001b[1;31m#tempvar...!\u001b[0m\u001b[1;33m\u001b[0m\u001b[1;33m\u001b[0m\u001b[0m\n\u001b[0m\u001b[0;32m      2\u001b[0m     \u001b[0mprint\u001b[0m\u001b[1;33m(\u001b[0m\u001b[0mtempvar\u001b[0m\u001b[1;33m)\u001b[0m \u001b[1;31m#indetation...!\u001b[0m\u001b[1;33m\u001b[0m\u001b[1;33m\u001b[0m\u001b[0m\n",
      "\u001b[1;31mNameError\u001b[0m: name 'mainvar' is not defined"
     ]
    }
   ],
   "source": [
    "for tempvar in mainvar: #tempvar...!\n",
    "    print(tempvar) #indetation...!"
   ]
  },
  {
   "cell_type": "code",
   "execution_count": 16,
   "metadata": {},
   "outputs": [
    {
     "name": "stdout",
     "output_type": "stream",
     "text": [
      "Keep up the good work, Ravi.\n",
      "\n",
      "Keep up the good work, Krunal.\n",
      "\n",
      "Keep up the good work, Daxesh.\n",
      "\n",
      "Keep up the good work, Dipti.\n",
      "\n",
      "Keep up the good work, Dwanil.\n",
      "\n",
      "Keep up the good work, Reshma.\n",
      "\n",
      "Keep up the good work, Roshani.\n",
      "\n"
     ]
    }
   ],
   "source": [
    "for x in students:\n",
    "    print(f\"Keep up the good work, {x.title()}.\\n\")"
   ]
  },
  {
   "cell_type": "code",
   "execution_count": null,
   "metadata": {},
   "outputs": [],
   "source": []
  },
  {
   "cell_type": "code",
   "execution_count": null,
   "metadata": {},
   "outputs": [],
   "source": [
    "Req: i wanted to give them a message to do daily pracitce which help yourself to do better"
   ]
  },
  {
   "cell_type": "code",
   "execution_count": null,
   "metadata": {},
   "outputs": [],
   "source": []
  },
  {
   "cell_type": "code",
   "execution_count": 17,
   "metadata": {},
   "outputs": [
    {
     "name": "stdout",
     "output_type": "stream",
     "text": [
      "Keep up the good work, Ravi.\n",
      "Dp daily practice for Python, It will help to do better Ravi.\n",
      "Keep up the good work, Krunal.\n",
      "Dp daily practice for Python, It will help to do better Krunal.\n",
      "Keep up the good work, Daxesh.\n",
      "Dp daily practice for Python, It will help to do better Daxesh.\n",
      "Keep up the good work, Dipti.\n",
      "Dp daily practice for Python, It will help to do better Dipti.\n",
      "Keep up the good work, Dwanil.\n",
      "Dp daily practice for Python, It will help to do better Dwanil.\n",
      "Keep up the good work, Reshma.\n",
      "Dp daily practice for Python, It will help to do better Reshma.\n",
      "Keep up the good work, Roshani.\n",
      "Dp daily practice for Python, It will help to do better Roshani.\n"
     ]
    }
   ],
   "source": [
    "for x in students:\n",
    "    print(f\"Keep up the good work, {x.title()}.\")\n",
    "    print(f\"Dp daily practice for Python, It will help to do better {x.title()}.\")"
   ]
  },
  {
   "cell_type": "code",
   "execution_count": null,
   "metadata": {},
   "outputs": [],
   "source": []
  },
  {
   "cell_type": "code",
   "execution_count": 18,
   "metadata": {},
   "outputs": [
    {
     "name": "stdout",
     "output_type": "stream",
     "text": [
      "Keep up the good work, Ravi.\n",
      "Dp daily practice for Python, It will help to do better Ravi.\n",
      "\n",
      "Keep up the good work, Krunal.\n",
      "Dp daily practice for Python, It will help to do better Krunal.\n",
      "\n",
      "Keep up the good work, Daxesh.\n",
      "Dp daily practice for Python, It will help to do better Daxesh.\n",
      "\n",
      "Keep up the good work, Dipti.\n",
      "Dp daily practice for Python, It will help to do better Dipti.\n",
      "\n",
      "Keep up the good work, Dwanil.\n",
      "Dp daily practice for Python, It will help to do better Dwanil.\n",
      "\n",
      "Keep up the good work, Reshma.\n",
      "Dp daily practice for Python, It will help to do better Reshma.\n",
      "\n",
      "Keep up the good work, Roshani.\n",
      "Dp daily practice for Python, It will help to do better Roshani.\n",
      "\n"
     ]
    }
   ],
   "source": [
    "for x in students:\n",
    "    print(f\"Keep up the good work, {x.title()}.\")\n",
    "    print(f\"Dp daily practice for Python, It will help to do better {x.title()}.\\n\")"
   ]
  },
  {
   "cell_type": "code",
   "execution_count": null,
   "metadata": {},
   "outputs": [],
   "source": []
  },
  {
   "cell_type": "code",
   "execution_count": null,
   "metadata": {},
   "outputs": [],
   "source": []
  },
  {
   "cell_type": "code",
   "execution_count": null,
   "metadata": {},
   "outputs": [],
   "source": []
  },
  {
   "cell_type": "code",
   "execution_count": null,
   "metadata": {},
   "outputs": [],
   "source": []
  },
  {
   "cell_type": "code",
   "execution_count": null,
   "metadata": {},
   "outputs": [],
   "source": []
  },
  {
   "cell_type": "code",
   "execution_count": null,
   "metadata": {},
   "outputs": [],
   "source": []
  },
  {
   "cell_type": "code",
   "execution_count": null,
   "metadata": {},
   "outputs": [],
   "source": []
  },
  {
   "cell_type": "code",
   "execution_count": null,
   "metadata": {},
   "outputs": [],
   "source": []
  },
  {
   "cell_type": "code",
   "execution_count": null,
   "metadata": {},
   "outputs": [],
   "source": []
  },
  {
   "cell_type": "code",
   "execution_count": null,
   "metadata": {},
   "outputs": [],
   "source": []
  }
 ],
 "metadata": {
  "kernelspec": {
   "display_name": "Python 3",
   "language": "python",
   "name": "python3"
  },
  "language_info": {
   "codemirror_mode": {
    "name": "ipython",
    "version": 3
   },
   "file_extension": ".py",
   "mimetype": "text/x-python",
   "name": "python",
   "nbconvert_exporter": "python",
   "pygments_lexer": "ipython3",
   "version": "3.8.3"
  }
 },
 "nbformat": 4,
 "nbformat_minor": 4
}
