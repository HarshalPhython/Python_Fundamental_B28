{
 "cells": [
  {
   "cell_type": "code",
   "execution_count": null,
   "metadata": {},
   "outputs": [],
   "source": [
    "Interview Questions\n",
    "1. What is String?----> String is series of character, it is declare with '',\"\",''''''\n",
    "2. waht is the use of f string?------> \n",
    "3. What is List?\n",
    "4. Syntax of for loop \n",
    "5. what is difference between sort and sorted?-------> sort is permanat chage in list, sorted is temporary changes, once changes done through sort can't revert the change.\n",
    "6. what is tuple datatype?\n",
    "7. Expain the concept of conditional statements?\n",
    "8. what is the string method to use to make it a proper format?\n",
    "9. students = ['a','b','c','d','e',], what is the method to get the total count?  ----len[students]\n",
    "\n",
    "\n"
   ]
  },
  {
   "cell_type": "code",
   "execution_count": null,
   "metadata": {},
   "outputs": [],
   "source": []
  },
  {
   "cell_type": "code",
   "execution_count": null,
   "metadata": {},
   "outputs": [],
   "source": [
    "Interview Questions:"
   ]
  },
  {
   "cell_type": "code",
   "execution_count": null,
   "metadata": {},
   "outputs": [],
   "source": [
    "1. What is String?\n",
    "String is series of character, it is declare with '',\"\",''''''"
   ]
  },
  {
   "cell_type": "code",
   "execution_count": 3,
   "metadata": {},
   "outputs": [
    {
     "name": "stdout",
     "output_type": "stream",
     "text": [
      "e\n",
      "d\n",
      "a\n"
     ]
    }
   ],
   "source": [
    "#Example:\n",
    "a = \"Hello, World!\"\n",
    "b = 'Good Morning'\n",
    "c= '''Have a nice Day!'''\n",
    "print(a[1])\n",
    "print(b[3])\n",
    "print(c[5])"
   ]
  },
  {
   "cell_type": "code",
   "execution_count": null,
   "metadata": {},
   "outputs": [],
   "source": []
  },
  {
   "cell_type": "code",
   "execution_count": null,
   "metadata": {},
   "outputs": [],
   "source": [
    "2. what is the use of f string?\n",
    "f-string is a literal string, prefixed with 'f', \n",
    "which contains expressions inside braces. The expressions are replaced with their values."
   ]
  },
  {
   "cell_type": "code",
   "execution_count": 8,
   "metadata": {},
   "outputs": [
    {
     "name": "stdout",
     "output_type": "stream",
     "text": [
      "My name is Rohan, I am 35\n"
     ]
    }
   ],
   "source": [
    "#Example:\n",
    "name = 'rohan'\n",
    "age = 35\n",
    "print(f'My name is {name.title()}, I am {age}')"
   ]
  },
  {
   "cell_type": "code",
   "execution_count": null,
   "metadata": {},
   "outputs": [],
   "source": []
  },
  {
   "cell_type": "code",
   "execution_count": null,
   "metadata": {},
   "outputs": [],
   "source": [
    "3. What is List?\n",
    "A List is a collection of items in a particular order\n",
    "to define a list : []  -----> Square bracket."
   ]
  },
  {
   "cell_type": "code",
   "execution_count": 9,
   "metadata": {},
   "outputs": [
    {
     "name": "stdout",
     "output_type": "stream",
     "text": [
      "['ram', 'michel', 'harish', 'roman', 'JORDAN']\n"
     ]
    }
   ],
   "source": [
    "#Example:\n",
    "students = ['ram', 'michel', 'harish', 'roman', 'JORDAN']\n",
    "print(students)"
   ]
  },
  {
   "cell_type": "code",
   "execution_count": null,
   "metadata": {},
   "outputs": [],
   "source": []
  },
  {
   "cell_type": "code",
   "execution_count": null,
   "metadata": {},
   "outputs": [],
   "source": [
    "4. Syntax of for loop \n",
    "for tempvar in mainvar: #tempvar...!\n",
    "    print(tempvar) #indetation...!"
   ]
  },
  {
   "cell_type": "code",
   "execution_count": 10,
   "metadata": {},
   "outputs": [
    {
     "name": "stdout",
     "output_type": "stream",
     "text": [
      "Keep up the good work, Ram.\n",
      "\n",
      "Keep up the good work, Michel.\n",
      "\n",
      "Keep up the good work, Harish.\n",
      "\n",
      "Keep up the good work, Roman.\n",
      "\n",
      "Keep up the good work, Jordan.\n",
      "\n"
     ]
    }
   ],
   "source": [
    "#example:\n",
    "for x in students:\n",
    "    print(f\"Keep up the good work, {x.title()}.\\n\")"
   ]
  },
  {
   "cell_type": "code",
   "execution_count": null,
   "metadata": {},
   "outputs": [],
   "source": []
  },
  {
   "cell_type": "code",
   "execution_count": null,
   "metadata": {},
   "outputs": [],
   "source": [
    "5. what is difference between sort and sorted?\n",
    "sort is permanent to the list, \n",
    "sorted is temporary changes only, \n",
    "once changes done through sort can't revert the change."
   ]
  },
  {
   "cell_type": "code",
   "execution_count": 14,
   "metadata": {},
   "outputs": [
    {
     "name": "stdout",
     "output_type": "stream",
     "text": [
      "['carrot', 'pea', 'potato', 'squash']\n"
     ]
    }
   ],
   "source": [
    "#example:\n",
    "vegetables = ['squash', 'pea', 'carrot', 'potato']\n",
    "\n",
    "print(sorted(vegetables))#sorted\n"
   ]
  },
  {
   "cell_type": "code",
   "execution_count": 20,
   "metadata": {},
   "outputs": [
    {
     "name": "stdout",
     "output_type": "stream",
     "text": [
      "['wheat', 'rice', 'corn', 'millets', 'maze']\n"
     ]
    }
   ],
   "source": [
    "Groceries = ['wheat','rice','corn','millets','maze']\n",
    "print(Groceries)"
   ]
  },
  {
   "cell_type": "code",
   "execution_count": 21,
   "metadata": {},
   "outputs": [
    {
     "name": "stdout",
     "output_type": "stream",
     "text": [
      "['corn', 'maze', 'millets', 'rice', 'wheat']\n"
     ]
    }
   ],
   "source": [
    "Groceries.sort()#sort\n",
    "print(Groceries)"
   ]
  },
  {
   "cell_type": "code",
   "execution_count": null,
   "metadata": {},
   "outputs": [],
   "source": []
  },
  {
   "cell_type": "code",
   "execution_count": null,
   "metadata": {},
   "outputs": [],
   "source": [
    "6. what is tuple datatype?\n",
    "An Immutable list is called as tuple.\n",
    "which means we cannot change the elements of a tuple once assigned.\n",
    "define a tuple? ----> () tehcnical term: Paranthesis."
   ]
  },
  {
   "cell_type": "code",
   "execution_count": 25,
   "metadata": {},
   "outputs": [
    {
     "name": "stdout",
     "output_type": "stream",
     "text": [
      "('Hi', 2, 5.3)\n"
     ]
    }
   ],
   "source": [
    "#Example:\n",
    "Ex_print = ('Hi',2,5.3)\n",
    "print(Ex_print)"
   ]
  },
  {
   "cell_type": "code",
   "execution_count": null,
   "metadata": {},
   "outputs": [],
   "source": []
  },
  {
   "cell_type": "code",
   "execution_count": null,
   "metadata": {},
   "outputs": [],
   "source": [
    "7. Explain the concept of conditional statements?\n",
    "A conditional statement in Python is handled by if statements\n",
    "if, if else, elif  ---------> 3 different conditions.\n",
    "\"if condition\" – used when need to print the result when one of the conditions is true or false.\n",
    "\"else condition\"- used when want to print the result when one condition fails to meet the requirement\n",
    "\"elif condition\" – used when have third possibility as the result. \n",
    "can use multiple elif conditions to check for 4th,5th,6th possibilities in your code."
   ]
  },
  {
   "cell_type": "code",
   "execution_count": 27,
   "metadata": {},
   "outputs": [
    {
     "name": "stdout",
     "output_type": "stream",
     "text": [
      "Your are eligible to vote\n"
     ]
    }
   ],
   "source": [
    "#building a voting application.\n",
    "\n",
    "#age criteria--> 18 or more than 18 years of age--> to get voting right\n",
    "\n",
    "age = 21\n",
    "\n",
    "if age >= 18:\n",
    "    print('Your are eligible to vote')\n",
    "else:\n",
    "    print('You are not eligible to vote, try next year!')\n"
   ]
  },
  {
   "cell_type": "code",
   "execution_count": 28,
   "metadata": {},
   "outputs": [
    {
     "name": "stdout",
     "output_type": "stream",
     "text": [
      "Baby will be able to stand\n"
     ]
    }
   ],
   "source": [
    "#Baby growth :\n",
    "\n",
    "#Baby 1 ----> crawl  --->baby will be able to crawl\n",
    "\n",
    "#Baby 2 ----> stand  ---> baby will be able to stand\n",
    "\n",
    "#Baby 3 ----> walk  ----> baby will be able to walk\n",
    "\n",
    "#Baby 4 ----> run   ----> baby will be able to run\n",
    "\n",
    "\n",
    "age = 2\n",
    "\n",
    "if age == 1:  #comparision operator--------->validating and executing the code block...!\n",
    "    print('Baby will be able to crawl')\n",
    "elif age == 2:\n",
    "    print('Baby will be able to stand')\n",
    "elif age == 3:\n",
    "    print('Baby will be able to walk')\n",
    "else:\n",
    "    print('Baby will be able to run!')\n"
   ]
  },
  {
   "cell_type": "code",
   "execution_count": null,
   "metadata": {},
   "outputs": [],
   "source": []
  },
  {
   "cell_type": "code",
   "execution_count": null,
   "metadata": {},
   "outputs": [],
   "source": [
    "8. what is the string method to use to make it a proper format?\n"
   ]
  },
  {
   "cell_type": "code",
   "execution_count": 29,
   "metadata": {},
   "outputs": [
    {
     "name": "stdout",
     "output_type": "stream",
     "text": [
      "harshal shah\n"
     ]
    }
   ],
   "source": [
    "#Example:\n",
    "name = 'harshal shah'\n",
    "print(name)\n"
   ]
  },
  {
   "cell_type": "code",
   "execution_count": 30,
   "metadata": {},
   "outputs": [
    {
     "name": "stdout",
     "output_type": "stream",
     "text": [
      "Harshal Shah\n"
     ]
    }
   ],
   "source": [
    "#convert the name in proper format\n",
    "print(name.title()) #titlecase or camelcase..."
   ]
  },
  {
   "cell_type": "code",
   "execution_count": 32,
   "metadata": {},
   "outputs": [
    {
     "name": "stdout",
     "output_type": "stream",
     "text": [
      "HARSHAL SHAH\n"
     ]
    }
   ],
   "source": [
    "#to convert the name in totally to capital letter\n",
    "print(name.upper()) #uppercase.."
   ]
  },
  {
   "cell_type": "code",
   "execution_count": 33,
   "metadata": {},
   "outputs": [
    {
     "name": "stdout",
     "output_type": "stream",
     "text": [
      "nishka shah\n"
     ]
    }
   ],
   "source": [
    "#to convert all the letter in small case.\n",
    "name1 = \"Nishka SHAH\"\n",
    "print(name1.lower()) "
   ]
  },
  {
   "cell_type": "code",
   "execution_count": null,
   "metadata": {},
   "outputs": [],
   "source": []
  },
  {
   "cell_type": "code",
   "execution_count": null,
   "metadata": {},
   "outputs": [],
   "source": [
    "9. students = ['a','b','c','d','e'], what is the method to get the total count? \n",
    "len[students]"
   ]
  },
  {
   "cell_type": "code",
   "execution_count": 44,
   "metadata": {},
   "outputs": [
    {
     "name": "stdout",
     "output_type": "stream",
     "text": [
      "the length of list is:  5\n"
     ]
    }
   ],
   "source": [
    "#Exmample:\n",
    "students = ['a','b','c','d','e']\n",
    "print('the length of list is: ', len(students))"
   ]
  },
  {
   "cell_type": "code",
   "execution_count": null,
   "metadata": {},
   "outputs": [],
   "source": [
    "10. student 'f' i want to add what is the method i need to use..in the list?\n"
   ]
  },
  {
   "cell_type": "code",
   "execution_count": 45,
   "metadata": {},
   "outputs": [],
   "source": [
    "students.append('f')  # append is method to add"
   ]
  },
  {
   "cell_type": "code",
   "execution_count": 46,
   "metadata": {},
   "outputs": [
    {
     "name": "stdout",
     "output_type": "stream",
     "text": [
      "['a', 'b', 'c', 'd', 'e', 'f']\n"
     ]
    }
   ],
   "source": [
    "print(students)"
   ]
  },
  {
   "cell_type": "code",
   "execution_count": null,
   "metadata": {},
   "outputs": [],
   "source": [
    "11. student 'g', i want to add this g in the 2nd index position above..?\n",
    "# to add g to 3rd index position...!"
   ]
  },
  {
   "cell_type": "code",
   "execution_count": 47,
   "metadata": {},
   "outputs": [],
   "source": [
    "students.insert(3,'g')"
   ]
  },
  {
   "cell_type": "code",
   "execution_count": 48,
   "metadata": {},
   "outputs": [
    {
     "name": "stdout",
     "output_type": "stream",
     "text": [
      "['a', 'b', 'c', 'g', 'd', 'e', 'f']\n"
     ]
    }
   ],
   "source": [
    "print(students)"
   ]
  },
  {
   "cell_type": "code",
   "execution_count": null,
   "metadata": {},
   "outputs": [],
   "source": [
    "12. what is different between append and insert?\n",
    "append method can be use for adding new element\n",
    "insert method :to add one more name in custom postion as well as can modify already occupied position"
   ]
  },
  {
   "cell_type": "code",
   "execution_count": 52,
   "metadata": {},
   "outputs": [
    {
     "name": "stdout",
     "output_type": "stream",
     "text": [
      "[1, 2, 3, 4, 5, 6]\n",
      "[1, 10, 2, 3, 4, 5, 10]\n"
     ]
    }
   ],
   "source": [
    "#Example:\n",
    "#Use of Append:\n",
    "\n",
    "list = [1,2,3,4,5]\n",
    "\n",
    "list.append(6)\n",
    "\n",
    "print(list) # [1,2,3,4,5,6]\n",
    "\n",
    "#Use of Insert:\n",
    "\n",
    "list1 = [1,2,3,4,5]\n",
    "\n",
    "list1.insert(5, 10) # [1,2,3,4,5,10]\n",
    "\n",
    "list1.insert(1, 10) # [1,10,3,4,5]\n",
    "print(list1)"
   ]
  },
  {
   "cell_type": "code",
   "execution_count": null,
   "metadata": {},
   "outputs": [],
   "source": []
  },
  {
   "cell_type": "code",
   "execution_count": null,
   "metadata": {},
   "outputs": [],
   "source": [
    "13. tell me difference between tuple and list \n",
    "lists are mutable whereas tuples are immutable.\n",
    "mutable data type means that a object of this type can be modified.\n",
    "immutabel data type can't be modified.\n",
    "Define list: []\n",
    "Define tuple: ()"
   ]
  },
  {
   "cell_type": "code",
   "execution_count": null,
   "metadata": {},
   "outputs": [],
   "source": []
  },
  {
   "cell_type": "code",
   "execution_count": 61,
   "metadata": {},
   "outputs": [
    {
     "name": "stdout",
     "output_type": "stream",
     "text": [
      "['apples', 'bananas', 'oranges']\n"
     ]
    }
   ],
   "source": [
    "a = [\"apples\", \"bananas\", \"oranges\"]  #list\n",
    "print(a)"
   ]
  },
  {
   "cell_type": "code",
   "execution_count": 63,
   "metadata": {},
   "outputs": [
    {
     "name": "stdout",
     "output_type": "stream",
     "text": [
      "['Grappes', 'bananas', 'oranges']\n"
     ]
    }
   ],
   "source": [
    "#change 'apples' to 'Grappes'.\n",
    "a[0] = 'Grappes'\n",
    "\n",
    "print(a)\n"
   ]
  },
  {
   "cell_type": "code",
   "execution_count": 64,
   "metadata": {},
   "outputs": [],
   "source": [
    "b = ('apples', 'bananas', 'oranges') #tuple"
   ]
  },
  {
   "cell_type": "code",
   "execution_count": 65,
   "metadata": {},
   "outputs": [
    {
     "ename": "TypeError",
     "evalue": "'tuple' object does not support item assignment",
     "output_type": "error",
     "traceback": [
      "\u001b[1;31m---------------------------------------------------------------------------\u001b[0m",
      "\u001b[1;31mTypeError\u001b[0m                                 Traceback (most recent call last)",
      "\u001b[1;32m<ipython-input-65-039ab28e59ed>\u001b[0m in \u001b[0;36m<module>\u001b[1;34m\u001b[0m\n\u001b[1;32m----> 1\u001b[1;33m \u001b[0mb\u001b[0m\u001b[1;33m[\u001b[0m\u001b[1;36m0\u001b[0m\u001b[1;33m]\u001b[0m \u001b[1;33m=\u001b[0m \u001b[1;34m'Grappes'\u001b[0m\u001b[1;33m\u001b[0m\u001b[1;33m\u001b[0m\u001b[0m\n\u001b[0m",
      "\u001b[1;31mTypeError\u001b[0m: 'tuple' object does not support item assignment"
     ]
    }
   ],
   "source": [
    "b[0] = 'Grappes'"
   ]
  },
  {
   "cell_type": "code",
   "execution_count": null,
   "metadata": {},
   "outputs": [],
   "source": []
  },
  {
   "cell_type": "code",
   "execution_count": null,
   "metadata": {},
   "outputs": [],
   "source": [
    "14. what is dictionaries?\n",
    "A dictionary is combination of key value pairs.\n",
    "define a dict\n",
    "by using {}\n",
    "Dictionary has been classified as mutable datatype!, so can edit, alter.\n",
    "A dict is used in mostly all the real world objects."
   ]
  },
  {
   "cell_type": "code",
   "execution_count": 66,
   "metadata": {},
   "outputs": [
    {
     "name": "stdout",
     "output_type": "stream",
     "text": [
      "{'firstname': 'code', 'lastname': 'training', 'emailid': 'mcmbsolutions@gmail.com', 'dob': '01/01/1981'}\n"
     ]
    }
   ],
   "source": [
    "#Example:\n",
    "username = {'firstname': 'code', 'lastname': 'training' ,'emailid':'mcmbsolutions@gmail.com', 'dob': '01/01/1981'}\n",
    "\n",
    "print(username)"
   ]
  },
  {
   "cell_type": "code",
   "execution_count": null,
   "metadata": {},
   "outputs": [],
   "source": []
  }
 ],
 "metadata": {
  "kernelspec": {
   "display_name": "Python 3",
   "language": "python",
   "name": "python3"
  },
  "language_info": {
   "codemirror_mode": {
    "name": "ipython",
    "version": 3
   },
   "file_extension": ".py",
   "mimetype": "text/x-python",
   "name": "python",
   "nbconvert_exporter": "python",
   "pygments_lexer": "ipython3",
   "version": "3.8.3"
  }
 },
 "nbformat": 4,
 "nbformat_minor": 4
}
