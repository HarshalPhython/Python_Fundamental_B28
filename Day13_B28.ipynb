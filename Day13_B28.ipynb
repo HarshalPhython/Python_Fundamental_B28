{
 "cells": [
  {
   "cell_type": "code",
   "execution_count": null,
   "metadata": {},
   "outputs": [],
   "source": [
    "introduction to while loops:"
   ]
  },
  {
   "cell_type": "code",
   "execution_count": 2,
   "metadata": {},
   "outputs": [
    {
     "name": "stdout",
     "output_type": "stream",
     "text": [
      "1\n",
      "2\n",
      "3\n",
      "4\n",
      "5\n"
     ]
    }
   ],
   "source": [
    "current_num = 1\n",
    "while current_num <= 5:\n",
    "    print(current_num)\n",
    "    current_num +=1 "
   ]
  },
  {
   "cell_type": "code",
   "execution_count": null,
   "metadata": {},
   "outputs": [],
   "source": []
  },
  {
   "cell_type": "code",
   "execution_count": null,
   "metadata": {},
   "outputs": [],
   "source": []
  },
  {
   "cell_type": "code",
   "execution_count": null,
   "metadata": {},
   "outputs": [],
   "source": [
    "letting the user choose when to quit:"
   ]
  },
  {
   "cell_type": "code",
   "execution_count": 5,
   "metadata": {},
   "outputs": [],
   "source": [
    "prompt = \"\\nTell me somethign and I will repeat it back to you\"\n",
    "prompt += \"\\nEnter 'quit' to the end program \""
   ]
  },
  {
   "cell_type": "code",
   "execution_count": 6,
   "metadata": {},
   "outputs": [
    {
     "name": "stdout",
     "output_type": "stream",
     "text": [
      "\n",
      "Tell me somethign and I will repeat it back to you\n",
      "Enter 'quit' to the end program Hi\n",
      "Hi\n",
      "\n",
      "Tell me somethign and I will repeat it back to you\n",
      "Enter 'quit' to the end program How are you\n",
      "How are you\n",
      "\n",
      "Tell me somethign and I will repeat it back to you\n",
      "Enter 'quit' to the end program I am Harshal\n",
      "I am Harshal\n",
      "\n",
      "Tell me somethign and I will repeat it back to you\n",
      "Enter 'quit' to the end program Have a nice day!\n",
      "Have a nice day!\n",
      "\n",
      "Tell me somethign and I will repeat it back to you\n",
      "Enter 'quit' to the end program quit\n",
      "quit\n"
     ]
    }
   ],
   "source": [
    "message = \"\"\n",
    "while message != \"quit\":\n",
    "    message = input(prompt)\n",
    "    print(message)"
   ]
  },
  {
   "cell_type": "code",
   "execution_count": null,
   "metadata": {},
   "outputs": [],
   "source": []
  },
  {
   "cell_type": "code",
   "execution_count": null,
   "metadata": {},
   "outputs": [],
   "source": []
  },
  {
   "cell_type": "code",
   "execution_count": null,
   "metadata": {},
   "outputs": [],
   "source": [
    "intorduction break and contine..."
   ]
  },
  {
   "cell_type": "code",
   "execution_count": 10,
   "metadata": {},
   "outputs": [],
   "source": [
    "prompt = \"\\nPlease enter a city you have visisted:\"\n",
    "prompt += \"\\n(enter 'quit' when you are finished) \""
   ]
  },
  {
   "cell_type": "code",
   "execution_count": 11,
   "metadata": {},
   "outputs": [
    {
     "name": "stdout",
     "output_type": "stream",
     "text": [
      "\n",
      "Please enter a city you have visisted:\n",
      "(enter 'quit' when you are finished) Ahmedabad\n",
      "i'd love to go to Ahmedabad\n",
      "\n",
      "Please enter a city you have visisted:\n",
      "(enter 'quit' when you are finished) Pune\n",
      "i'd love to go to Pune\n",
      "\n",
      "Please enter a city you have visisted:\n",
      "(enter 'quit' when you are finished) Hyderabd\n",
      "i'd love to go to Hyderabd\n",
      "\n",
      "Please enter a city you have visisted:\n",
      "(enter 'quit' when you are finished) Mumbai\n",
      "i'd love to go to Mumbai\n",
      "\n",
      "Please enter a city you have visisted:\n",
      "(enter 'quit' when you are finished) chennai\n",
      "i'd love to go to Chennai\n",
      "\n",
      "Please enter a city you have visisted:\n",
      "(enter 'quit' when you are finished) quit\n"
     ]
    }
   ],
   "source": [
    "while True:\n",
    "    city = input(prompt)\n",
    "    \n",
    "    if city == 'quit':\n",
    "        break #it will be stopping the execution  of th eprogram.....\n",
    "    else:\n",
    "        print(f\"i'd love to go to {city.title()}\")  "
   ]
  },
  {
   "cell_type": "code",
   "execution_count": null,
   "metadata": {},
   "outputs": [],
   "source": []
  },
  {
   "cell_type": "code",
   "execution_count": null,
   "metadata": {},
   "outputs": [],
   "source": []
  },
  {
   "cell_type": "code",
   "execution_count": null,
   "metadata": {},
   "outputs": [],
   "source": [
    "continue means it will be validating till the last step of the program "
   ]
  },
  {
   "cell_type": "code",
   "execution_count": 13,
   "metadata": {},
   "outputs": [
    {
     "name": "stdout",
     "output_type": "stream",
     "text": [
      "1\n",
      "3\n",
      "5\n",
      "7\n",
      "9\n"
     ]
    }
   ],
   "source": [
    "current_num1 = 0\n",
    "\n",
    "while current_num1 < 10:\n",
    "    current_num1 +=1\n",
    "    \n",
    "    if current_num1 %2 ==0:\n",
    "        continue\n",
    "        \n",
    "    print(current_num1)"
   ]
  },
  {
   "cell_type": "code",
   "execution_count": null,
   "metadata": {},
   "outputs": [],
   "source": []
  },
  {
   "cell_type": "code",
   "execution_count": 15,
   "metadata": {},
   "outputs": [
    {
     "name": "stdout",
     "output_type": "stream",
     "text": [
      "1\n",
      "2\n",
      "3\n",
      "4\n",
      "6\n",
      "7\n",
      "8\n",
      "9\n",
      "11\n",
      "12\n",
      "13\n",
      "14\n",
      "16\n",
      "17\n",
      "18\n",
      "19\n"
     ]
    }
   ],
   "source": [
    "current_num1 = 0\n",
    "\n",
    "while current_num1 < 20:\n",
    "    current_num1 +=1\n",
    "    \n",
    "    if current_num1 %5 ==0:\n",
    "        continue\n",
    "        \n",
    "    print(current_num1)"
   ]
  },
  {
   "cell_type": "code",
   "execution_count": null,
   "metadata": {},
   "outputs": [],
   "source": []
  },
  {
   "cell_type": "code",
   "execution_count": null,
   "metadata": {},
   "outputs": [],
   "source": []
  },
  {
   "cell_type": "code",
   "execution_count": null,
   "metadata": {},
   "outputs": [],
   "source": []
  },
  {
   "cell_type": "code",
   "execution_count": null,
   "metadata": {},
   "outputs": [],
   "source": []
  },
  {
   "cell_type": "code",
   "execution_count": null,
   "metadata": {},
   "outputs": [],
   "source": []
  },
  {
   "cell_type": "code",
   "execution_count": null,
   "metadata": {},
   "outputs": [],
   "source": []
  },
  {
   "cell_type": "code",
   "execution_count": null,
   "metadata": {},
   "outputs": [],
   "source": []
  },
  {
   "cell_type": "code",
   "execution_count": null,
   "metadata": {},
   "outputs": [],
   "source": []
  },
  {
   "cell_type": "code",
   "execution_count": null,
   "metadata": {},
   "outputs": [],
   "source": []
  },
  {
   "cell_type": "code",
   "execution_count": null,
   "metadata": {},
   "outputs": [],
   "source": []
  },
  {
   "cell_type": "code",
   "execution_count": null,
   "metadata": {},
   "outputs": [],
   "source": []
  },
  {
   "cell_type": "code",
   "execution_count": null,
   "metadata": {},
   "outputs": [],
   "source": []
  },
  {
   "cell_type": "code",
   "execution_count": null,
   "metadata": {},
   "outputs": [],
   "source": []
  }
 ],
 "metadata": {
  "kernelspec": {
   "display_name": "Python 3",
   "language": "python",
   "name": "python3"
  },
  "language_info": {
   "codemirror_mode": {
    "name": "ipython",
    "version": 3
   },
   "file_extension": ".py",
   "mimetype": "text/x-python",
   "name": "python",
   "nbconvert_exporter": "python",
   "pygments_lexer": "ipython3",
   "version": "3.8.3"
  }
 },
 "nbformat": 4,
 "nbformat_minor": 4
}
